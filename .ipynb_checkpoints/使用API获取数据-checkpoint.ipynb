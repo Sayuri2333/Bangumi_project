{
 "cells": [
  {
   "cell_type": "code",
   "execution_count": 5,
   "metadata": {
    "scrolled": false
   },
   "outputs": [
    {
     "data": {
      "text/plain": [
       "{'id': 321,\n",
       " 'url': 'http://bgm.tv/subject/321',\n",
       " 'type': 2,\n",
       " 'name': '機動警察パトレイバー 2 the Movie',\n",
       " 'name_cn': '机动警察 和平保卫战',\n",
       " 'summary': '若干年前，陆上自卫队某战车小队在东南亚某处遭遇袭击，除队长柘植行人外，全军覆没。\\r\\n时间又回到今天，海湾大桥突然爆炸，民间一度陷入恐慌。一位名叫荒川茂树，自称是自卫队调查部的人找到后藤与南云，告诉他本次事件的真实情况是由不明身份的战斗机发射导弹袭击大桥所致，同时他认为已经失踪许久的柘植行人是最大的嫌疑犯。正当后藤他们拜托松井协助调查的时候，日本各地却纷纷出现空袭的虚假警报，其目的大都是东京圈。为此军队与警察等部门也陷入了彼此对立、不知所措的困境中。为了防范未然，政府调动部分忠于自己的自卫队进驻东京。\\r\\n在松井不懈的努力下，终于查到柘植行人的蛛丝马迹，南云亦已察觉到这个昔日的恋人正是此次动乱的策划人。不过由于荒川的参入，柘植行人没有再与南云接触，他彻底消失在了夜幕中。\\r\\n恐怖的前兆终于发生：东京的通讯系统突然完全瘫痪，驻扎在市内各处的部队也变成了如盲人般，根本无法有效行动。而此时，满载着毒气的巨大飞艇正在接近这个不设防的城市.....',\n",
       " 'eps': 1,\n",
       " 'eps_count': 1,\n",
       " 'air_date': '1993-08-07',\n",
       " 'air_weekday': 6,\n",
       " 'rating': {'total': 681,\n",
       "  'count': {'10': 181,\n",
       "   '9': 226,\n",
       "   '8': 173,\n",
       "   '7': 65,\n",
       "   '6': 22,\n",
       "   '5': 3,\n",
       "   '4': 2,\n",
       "   '3': 1,\n",
       "   '2': 1,\n",
       "   '1': 7},\n",
       "  'score': 8.6},\n",
       " 'rank': 35,\n",
       " 'images': {'large': 'http://lain.bgm.tv/pic/cover/l/ca/f1/321_DQ8ti.jpg',\n",
       "  'common': 'http://lain.bgm.tv/pic/cover/c/ca/f1/321_DQ8ti.jpg',\n",
       "  'medium': 'http://lain.bgm.tv/pic/cover/m/ca/f1/321_DQ8ti.jpg',\n",
       "  'small': 'http://lain.bgm.tv/pic/cover/s/ca/f1/321_DQ8ti.jpg',\n",
       "  'grid': 'http://lain.bgm.tv/pic/cover/g/ca/f1/321_DQ8ti.jpg'},\n",
       " 'collection': {'wish': 567,\n",
       "  'collect': 894,\n",
       "  'doing': 17,\n",
       "  'on_hold': 34,\n",
       "  'dropped': 15}}"
      ]
     },
     "execution_count": 5,
     "metadata": {},
     "output_type": "execute_result"
    }
   ],
   "source": [
    "import requests\n",
    "from bs4 import BeautifulSoup\n",
    "import time\n",
    "from urllib import parse\n",
    "import hashlib\n",
    "from requests.adapters import HTTPAdapter\n",
    "from requests.packages.urllib3.util.retry import Retry\n",
    "import MySQLdb\n",
    "import time\n",
    "import datetime\n",
    "import traceback\n",
    "\n",
    "requests.adapters.DEFAULT_RETRIES = 5 # 增加重连次数\n",
    "s = requests.session()\n",
    "headers = {'User-Agent':'Mozilla/5.0 (Windows NT 6.1) AppleWebKit/537.11 (KHTML, like Gecko) Chrome/23.0.1271.64 Safari/537.11',\n",
    "'Accept':'text/html;q=0.9,*/*;q=0.8',\n",
    "'Accept-Charset':'ISO-8859-1,utf-8;q=0.7,*;q=0.3',\n",
    "'Accept-Encoding':'gzip',\n",
    "'Connection':'close',\n",
    "'Authorization': 'Basic {base64(757139408@qq.com:wsrfhyki)}'\n",
    "}\n",
    "\n",
    "html = s.post(\"https://api.bgm.tv/subject/321\", headers=headers).json()\n",
    "html"
   ]
  },
  {
   "cell_type": "code",
   "execution_count": 1,
   "metadata": {},
   "outputs": [],
   "source": []
  }
 ],
 "metadata": {
  "kernelspec": {
   "display_name": "Python 3",
   "language": "python",
   "name": "python3"
  },
  "language_info": {
   "codemirror_mode": {
    "name": "ipython",
    "version": 3
   },
   "file_extension": ".py",
   "mimetype": "text/x-python",
   "name": "python",
   "nbconvert_exporter": "python",
   "pygments_lexer": "ipython3",
   "version": "3.6.6"
  }
 },
 "nbformat": 4,
 "nbformat_minor": 2
}
